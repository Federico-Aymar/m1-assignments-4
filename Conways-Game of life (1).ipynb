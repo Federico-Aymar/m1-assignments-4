{
 "cells": [
  {
   "cell_type": "markdown",
   "metadata": {},
   "source": [
    "# Conway's Game of Life\n",
    "Conway's Game of Life is a cellular automata simulation that follows simple rules to create visual patterns.\n",
    "The *game* is played on a two-dimensional board (a grid) of cells. Each cell can be either black or white.\n",
    "The board evolves according to the following rules:\n",
    "- Living (black) cells with two or three neighbors stay alive in the next step of the simulation;\n",
    "- Dead (white) cells with exactly three living neighbors become alive in the next step of the simulation;\n",
    "- Any other cell dies or stays dead in the next step of the simulation.\n",
    "\n",
    "The living or dead state of the cells in the next step of the simulation depends entirely on their current state. There is no *memory* whatsoever for the grid cells beside the current board status, which rules the living or dead state of the cells in the next step of the simulation."
   ]
  },
  {
   "cell_type": "markdown",
   "metadata": {},
   "source": [
    "Before starting to code your solution, let's highlight a few aspects you may want to brainstorm in advance:\n",
    "- Which format is most suitable representation for our data?\n",
    "- How do we populate the grid in the beginning?\n",
    "- Which parts of the code could be factored out in separate functions?\n",
    "- How could we handle the main game-loop?\n",
    "\n",
    "The most suitable format to represent this problem is that of matrix of the size of the two-dimensional board, which are entered by the users when the program is launched. Within it, it must be filled with two random numbers, 0 or 1, which respectively represent the vital status of a cell. To avoid infinite iterations a while-loop has been chosen, in order to stop cell evolution in case there are no more living cells, if the cells keeps the same configuration for two consecutive steps and the number of steps is higher than a fixed number. For this purpose, two functions are created. The first one is called **grid_formation**, which receives as input the size of grid and of cell, set as three in order to reduce nuber of steps. Checked that information given in input are numerical and that both the number of rows and columns is higher than cell size, two parameters are randomly set to place the cell inside the grid and a the grid is created. To create the cell, a 3x3 section of the grid is selected and randomly composed of 0, which stands for dead cells, and 1, which stands for living cells. To these values, it is associated a color with which displays data as image, coloring white cells which contains 0 and coloring black cells which contains 1. The function returns the grid, which will be used as input parameter for the second function. "
   ]
  },
  {
   "cell_type": "code",
   "execution_count": 11,
   "metadata": {},
   "outputs": [],
   "source": [
    "import random\n",
    "import numpy as np\n",
    "import matplotlib.pyplot as plt\n",
    "import sys\n",
    "\n",
    "def grid_formation(c,r):\n",
    "    size_cells=int(input('Insert the initial size of the cells: '))\n",
    "    if c.isnumeric() and r.isnumeric():\n",
    "        c=int(c)\n",
    "        r=int(r)\n",
    "        if c>size_cells and r>size_cells:\n",
    "            p=random.randint(0,c-1-size_cells)\n",
    "            t=random.randint(0,r-1-size_cells)\n",
    "            a=[None]*int(r)\n",
    "\n",
    "\n",
    "            for i in range(int(len(a))):\n",
    "                b=[None]*int(c)\n",
    "                for j in range(int(len(b))):\n",
    "                    b[j]=0\n",
    "                a[i]=b    \n",
    "\n",
    "\n",
    "\n",
    "\n",
    "            grid=np.array(a)\n",
    "            cell=grid[p:p+size_cells,t:t+size_cells]\n",
    "            # cella=(cell[p:p+3,t:t+3])\n",
    "\n",
    "            for i in range(size_cells):\n",
    "                b=cell[i]\n",
    "                for j in range(size_cells):\n",
    "                      b[j]=random.randint(0,1)\n",
    "                      cell[i,j]=b[j]\n",
    "\n",
    "            for i in range(size_cells):\n",
    "                for j in range(size_cells):\n",
    "                    grid[p+i,t+j]=cell[i,j]\n",
    "\n",
    "\n",
    "            plt.imshow(grid,cmap='gray_r')\n",
    "            plt.show() \n",
    "            return grid\n",
    "        else:\n",
    "            print(f'Both number of columns and rows must be higher than cell size.')\n",
    "            sys.exit()\n",
    "            \n",
    "    else:\n",
    "        print(f'You must insert numerical values.')\n",
    "        sys.exit()"
   ]
  },
  {
   "cell_type": "markdown",
   "metadata": {},
   "source": [
    "The second function is called **cell_evolution**, which describes the evolution of the cell following the rules mentioned in the introdction. Each vital state in the grid is selected and, according to its position on the grid, cells around it are selected. Summing the values around the vital state it is possible to understand how many cells are alive, and so to define the vital state the portion of the grid in the next step. Once the whole matrix has been analyzed, the new configuration is represented with the function previously used. This function returns the number of steps until the stop of the simulation and the final size of the cells."
   ]
  },
  {
   "cell_type": "code",
   "execution_count": 16,
   "metadata": {},
   "outputs": [],
   "source": [
    "def cell_evolution (c,r,grid,ev):\n",
    "    if c.isnumeric() and r.isnumeric():\n",
    "        c=int(c)\n",
    "        r=int(r)\n",
    "        old_configuration=np.zeros((c,r))\n",
    "        new_configuration=np.ones((c,r))\n",
    "        new_life_cond=c*r+1\n",
    "        max_ev=int(input('Insert the maximum number of steps: '))\n",
    "\n",
    "        while (new_life_cond!=0) and np.array_equal(old_configuration,new_configuration)==False and ev<=max_ev:\n",
    "            if ev==0:\n",
    "                for i in range(c):\n",
    "                    for j in range(r):\n",
    "                        old_configuration[i,j]=grid[i,j]\n",
    "            else:\n",
    "                for i in range(c):\n",
    "                    for j in range(r):\n",
    "                        old_configuration[i,j]=new_configuration[i,j]\n",
    "            i=0\n",
    "            j=0\n",
    "            for i in range(c):\n",
    "                for j in range(r):\n",
    "                    unit=grid[i,j]\n",
    "                    if i==0: \n",
    "                        if j==0:\n",
    "                          cell_old=grid[i:i+2,j:j+2]\n",
    "                        if j==r-1:\n",
    "                          cell_old=grid[i:i+2,j-1:j+1]\n",
    "                        if j>0 and j<r-1:\n",
    "                          cell_old=grid[i:i+2,j-1:j+2]\n",
    "                    if i==c-1:\n",
    "                        if j==0:\n",
    "                          cell_old=grid[i-2:i,j:j+2]\n",
    "                        if j==r-1:\n",
    "                          cell_old=grid[i-2:i,j-1:j+1]\n",
    "                        if j>0 and j<r-1:\n",
    "                          cell_old=grid[i-2:i,j-1:j+2]\n",
    "                    if i>0 and i<c-1:\n",
    "                        if j==0:\n",
    "                          cell_old=grid[i-1:i+2,j:j+2]\n",
    "                        if j==r-1:\n",
    "                          cell_old=grid[i-1:i+2,j-1:j+1]\n",
    "                        if j>0 and j<r-1:\n",
    "                          cell_old=grid[i-1:i+2,j-1:j+2]\n",
    "\n",
    "                    life_cond=cell_old.sum()-unit\n",
    "                    if unit==0:\n",
    "                            if life_cond==3:\n",
    "                                unit=1\n",
    "                            else:\n",
    "                                unit=0\n",
    "                    else:\n",
    "                            if life_cond==2 or life_cond==3:\n",
    "                                unit=1\n",
    "                            else:\n",
    "                                unit=0\n",
    "                    grid[i,j]=unit\n",
    "\n",
    "                    new_configuration=grid\n",
    "\n",
    "\n",
    "\n",
    "            plt.imshow(grid,cmap='gray_r')\n",
    "            plt.show()\n",
    "            new_life_cond=grid.sum()\n",
    "            ev=ev+1\n",
    "\n",
    "        return ev,old_configuration,new_configuration\n"
   ]
  },
  {
   "cell_type": "markdown",
   "metadata": {},
   "source": [
    "At this point, inserting the information of the grid dimension, it is possible to lauch the program."
   ]
  },
  {
   "cell_type": "code",
   "execution_count": 17,
   "metadata": {},
   "outputs": [
    {
     "name": "stdout",
     "output_type": "stream",
     "text": [
      "Insert the number of columns: 20\n",
      "Insert the number of rows: 20\n",
      "Insert the initial size of the cells: 3\n"
     ]
    },
    {
     "data": {
      "image/png": "[encoded data removed]",
      "text/plain": [
       "<Figure size 432x288 with 1 Axes>"
      ]
     },
     "metadata": {
      "needs_background": "light"
     },
     "output_type": "display_data"
    },
    {
     "name": "stdout",
     "output_type": "stream",
     "text": [
      "Insert the maximum number of steps: 100\n"
     ]
    },
    {
     "data": {
      "image/png": "[encoded data removed]",
      "text/plain": [
       "<Figure size 432x288 with 1 Axes>"
      ]
     },
     "metadata": {
      "needs_background": "light"
     },
     "output_type": "display_data"
    },
    {
     "data": {
      "image/png": "[encoded data removed]",
      "text/plain": [
       "<Figure size 432x288 with 1 Axes>"
      ]
     },
     "metadata": {
      "needs_background": "light"
     },
     "output_type": "display_data"
    }
   ],
   "source": [
    "c=input('Insert the number of columns: ')\n",
    "r=input('Insert the number of rows: ')\n",
    "ev=0\n",
    "\n",
    "\n",
    "grid=grid_formation(c,r)\n",
    "ev,old_configuration,new_configuration=cell_evolution(c,r,grid,ev)\n"
   ]
  },
  {
   "cell_type": "markdown",
   "metadata": {},
   "source": [
    "Downstream the program execution, it is interesting to get some information the number of the steps which leads to the end of the program."
   ]
  },
  {
   "cell_type": "code",
   "execution_count": 18,
   "metadata": {},
   "outputs": [
    {
     "name": "stdout",
     "output_type": "stream",
     "text": [
      "The cell manages to survive for 2 steps.\n"
     ]
    }
   ],
   "source": [
    "if ev>0:\n",
    "    if np.array_equal(old_configuration,new_configuration)==True:\n",
    "        print(f'The cell keeps the same size after {ev} steps.')\n",
    "    elif ev<100:\n",
    "        print(f'The cell manages to survive for {ev} steps.')\n",
    "    else:\n",
    "        print(f'The cell manages to survive for more than 100 steps.')\n",
    "else:\n",
    "    print(f'The program has not been launched.')\n",
    "    \n"
   ]
  },
  {
   "cell_type": "code",
   "execution_count": null,
   "metadata": {},
   "outputs": [],
   "source": []
  },
  {
   "cell_type": "code",
   "execution_count": null,
   "metadata": {},
   "outputs": [],
   "source": []
  }
 ],
 "metadata": {
  "hide_input": false,
  "kernelspec": {
   "display_name": "Python 3",
   "language": "python",
   "name": "python3"
  },
  "language_info": {
   "codemirror_mode": {
    "name": "ipython",
    "version": 3
   },
   "file_extension": ".py",
   "mimetype": "text/x-python",
   "name": "python",
   "nbconvert_exporter": "python",
   "pygments_lexer": "ipython3",
   "version": "3.8.5"
  }
 },
 "nbformat": 4,
 "nbformat_minor": 5
}
